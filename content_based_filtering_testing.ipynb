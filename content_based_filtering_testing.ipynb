{
 "cells": [
  {
   "cell_type": "markdown",
   "metadata": {},
   "source": [
    "# Capstone Term 2 - Project\n",
    "\n",
    "* Marcos Bittencourt\n",
    "---\n",
    "* Contributors\n",
    "    * Todd McCullough [Git](https://github.com/tamccullough)\n",
    "    * Savya Sharma [Git](https://github.com/SavyaSharma)\n",
    "    * Marko Topitch [Git](https://github.com/TopMarko)\n",
    "---"
   ]
  },
  {
   "cell_type": "markdown",
   "metadata": {},
   "source": [
    "## Content Based Filtering Tests"
   ]
  },
  {
   "cell_type": "code",
   "execution_count": 1,
   "metadata": {},
   "outputs": [],
   "source": [
    "import pandas as pd\n",
    "from sklearn.feature_extraction.text import TfidfVectorizer\n",
    "from sklearn.metrics.pairwise import linear_kernel"
   ]
  },
  {
   "cell_type": "markdown",
   "metadata": {},
   "source": [
    "### Load the data"
   ]
  },
  {
   "cell_type": "code",
   "execution_count": 2,
   "metadata": {},
   "outputs": [],
   "source": [
    "recipes_df = pd.read_csv('datasets/recipes-sub.csv')\n",
    "users_df = pd.read_csv('datasets/users-sub.csv')\n",
    "master_ratings_df = pd.read_csv('datasets/reviews-sub.csv')"
   ]
  },
  {
   "cell_type": "markdown",
   "metadata": {},
   "source": [
    "##### Data Preparation\n",
    "\n",
    "[TfidfVectorizer](https://scikit-learn.org/stable/modules/generated/sklearn.feature_extraction.text.TfidfVectorizer.html)\n",
    "\n",
    "This module converts a collection of raw documents to a matrix of TF-IDF features. [Read more about count vectorization](https://scikit-learn.org/stable/modules/feature_extraction.html#text-feature-extraction)"
   ]
  },
  {
   "cell_type": "code",
   "execution_count": 3,
   "metadata": {},
   "outputs": [],
   "source": [
    "# Find the term frequency for words in the title (How often a word is used in the whole dataset)\n",
    "tf = TfidfVectorizer(analyzer='word', ngram_range=(1, 3), min_df=0, stop_words='english')\n",
    "\n",
    "# Compute the inverse document frequency (How important a word is in the whole title corpus)\n",
    "tfidf_matrix = tf.fit_transform(recipes_df['title'])"
   ]
  },
  {
   "cell_type": "markdown",
   "metadata": {},
   "source": [
    "##### Calculate the relationship between the neighbours\n",
    "\n",
    "[Linear Kernel](https://scikit-learn.org/stable/modules/generated/sklearn.metrics.pairwise.linear_kernel.html)\n",
    "\n",
    "[This module computes the linear kernel between the two selected points.](https://scikit-learn.org/stable/modules/metrics.html#linear-kernel)"
   ]
  },
  {
   "cell_type": "code",
   "execution_count": 4,
   "metadata": {},
   "outputs": [],
   "source": [
    "# Calculate the cosine similarity between all items\n",
    "cosine_similarities = linear_kernel(tfidf_matrix, tfidf_matrix) \n",
    "results = {}\n",
    "for idx, row in recipes_df.iterrows():\n",
    "    similar_indices = cosine_similarities[idx].argsort()[:-100:-1] \n",
    "    similar_items = [(cosine_similarities[idx][i], recipes_df['recipe_id'][i]) for i in similar_indices] \n",
    "    results[row['recipe_id']] = similar_items[1:]"
   ]
  },
  {
   "cell_type": "markdown",
   "metadata": {},
   "source": [
    "## Inference\n",
    "\n",
    "Some simple functions are created that to find the title of a recipe, based on ID.\n",
    "\n",
    "While the second function uses the matrix created above to find items with similarities"
   ]
  },
  {
   "cell_type": "code",
   "execution_count": 5,
   "metadata": {},
   "outputs": [],
   "source": [
    "# This function just finds the title of a recipe given its id\n",
    "def item(id):  \n",
    "  return recipes_df.loc[recipes_df['recipe_id'] == id]['title'].tolist()[0].split(' - ')[0] # Just reads the results out of the dictionary.\n",
    "\n",
    "# Finds the most similar items from the cosine similarity matrix above\n",
    "def recommend(item_id, N):\n",
    "    recs = results[item_id][:N]   \n",
    "    for rec in recs: \n",
    "        pass\n",
    "\n",
    "    return recs"
   ]
  },
  {
   "cell_type": "code",
   "execution_count": 6,
   "metadata": {},
   "outputs": [
    {
     "name": "stdout",
     "output_type": "stream",
     "text": [
      "Recommended: Cut-Out Butter Cookies (score:0.2963890636827812)\n",
      "Recommended: Almond Cookies II (score:0.2966995984569579)\n",
      "Recommended: Drop Butter Cookies (score:0.29766245887046844)\n",
      "Recommended: Brown Butter Cookies (score:0.302178394252651)\n",
      "Recommended: Cinnamon Butter Cookies (score:0.30285039369142613)\n",
      "Recommended: Butter Cookies IV (score:0.30435019528062957)\n",
      "Recommended: Classic Butter Cookies I (score:0.30737541857220485)\n",
      "Recommended: Butter Cookies III (score:0.32773233913696276)\n",
      "Recommended: Cinnamon Sugar Butter Cookies II (score:0.5871393137609483)\n",
      "Recommended: Classic Butter Cookies II (score:0.7026410119057137)\n"
     ]
    }
   ],
   "source": [
    "# User to recommend for\n",
    "user_id = 420\n",
    "\n",
    "# Number of items to recommend\n",
    "N = 10\n",
    "\n",
    "# Gets all the items a user has rated\n",
    "rated_items = list(set(master_ratings_df.loc[master_ratings_df['reviewer_id'] == user_id]['recipe_id'].tolist()))\n",
    "\n",
    "# Predict similar recipes for all the user's previously rated recipes.\n",
    "preds = []\n",
    "for rated_item in rated_items:\n",
    "    preds += recommend(item_id=rated_item, N=N)\n",
    "    \n",
    "# Drop duplicate results\n",
    "# TODO: This is bugged. It will not remove duplicate items if they have different similarities (both instances were recommended by different recipes)\n",
    "preds = list(set(preds))\n",
    "# Sort the list\n",
    "preds = sorted(preds, key=lambda tup: tup[0])\n",
    "# Keep only the specified amount of recommendations\n",
    "preds = preds[:N]\n",
    "\n",
    "\n",
    "#Print the results out nicely\n",
    "for pred in preds:\n",
    "    print(\"Recommended: \" + item(pred[1]) + \" (score:\" + str(pred[0]) + \")\")"
   ]
  },
  {
   "cell_type": "code",
   "execution_count": null,
   "metadata": {},
   "outputs": [],
   "source": []
  }
 ],
 "metadata": {
  "file_extension": ".py",
  "kernelspec": {
   "display_name": "Python 3",
   "language": "python",
   "name": "python3"
  },
  "language_info": {
   "codemirror_mode": {
    "name": "ipython",
    "version": 3
   },
   "file_extension": ".py",
   "mimetype": "text/x-python",
   "name": "python",
   "nbconvert_exporter": "python",
   "pygments_lexer": "ipython3",
   "version": "3.7.6"
  },
  "mimetype": "text/x-python",
  "name": "python",
  "npconvert_exporter": "python",
  "pygments_lexer": "ipython3",
  "version": 3
 },
 "nbformat": 4,
 "nbformat_minor": 2
}
