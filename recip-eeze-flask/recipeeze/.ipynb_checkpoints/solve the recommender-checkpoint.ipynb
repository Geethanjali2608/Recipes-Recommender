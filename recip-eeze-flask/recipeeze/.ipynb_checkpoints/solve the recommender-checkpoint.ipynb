{
 "cells": [
  {
   "cell_type": "code",
   "execution_count": 1,
   "metadata": {},
   "outputs": [],
   "source": [
    "#recipe recommender\n",
    "import pandas as pd\n",
    "import numpy as np\n",
    "import heapq\n",
    "import pickle"
   ]
  },
  {
   "cell_type": "code",
   "execution_count": 29,
   "metadata": {},
   "outputs": [],
   "source": [
    "filename = 'recipes_recommender_model.sav'\n",
    "rr_model = pickle.load(open(filename, 'rb'))\n",
    "\n",
    "recipes_df = pd.read_csv('datasets/rr-recipes.csv')\n",
    "users_df = pd.read_csv('datasets/rr-users.csv')\n",
    "ratings_df = pd.read_csv('datasets/rr-ratings.csv')"
   ]
  },
  {
   "cell_type": "code",
   "execution_count": 176,
   "metadata": {},
   "outputs": [],
   "source": [
    "def get_r(user_id):\n",
    "    # Select which system to use. Due to memory constraints, item based is the only viable option\n",
    "    recommender_system = rr_model\n",
    "    # N will represent how many items to recommend\n",
    "    N = 200\n",
    "    # The setting to a set and back to list is a failsafe.\n",
    "    rated_items = list(set(ratings_df.loc[ratings_df['user'] == user_id]['item'].tolist()))\n",
    "    # Self explanitory name\n",
    "    all_item_ids = list(set(ratings_df['item'].tolist()))\n",
    "    # New_items just represents all the items not rated by the user\n",
    "    new_items = [x for x in all_item_ids if x not in rated_items]\n",
    "    # Estimate ratings for all unrated items\n",
    "    predicted_ratings = {}\n",
    "    for item_id in new_items:\n",
    "        predicted_ratings[item_id] = recommender_system.predict(user_id, item_id).est\n",
    "        pass\n",
    "    # Get the item_ids for the top ratings\n",
    "    recommended_ids = heapq.nlargest(N, predicted_ratings, key=predicted_ratings.get)\n",
    "    recommended_ids = sorted(recommended_ids)\n",
    "    # predicted_ratings\n",
    "    recommended_df = recipes_df.loc[recipes_df['recipe_id'].isin(recommended_ids)].copy()\n",
    "    recommended_df.set_index('recipe_id', inplace=True)\n",
    "    recommended_df.insert(1, 'pred_rating', np.zeros(len(recommended_ids)))\n",
    "    # recommended_df = recipes_df.copy()\n",
    "    for idx,item_id in enumerate(recommended_ids):\n",
    "        recommended_df.iloc[idx, recommended_df.columns.get_loc('pred_rating')] =predicted_ratings[item_id]\n",
    "        pass\n",
    "    return recommended_df.head(N).sort_values('pred_rating', ascending=False)\n",
    "\n",
    "def set_up_rr(user_id,ingredient_list):\n",
    "    # split the input up into an array for the loop\n",
    "    items = ingredient_list.split(',')\n",
    "    rr_list = get_r(user_id)\n",
    "    for j in range(0,len(items)):\n",
    "        rr_list = rr_list[rr_list['ingredients'].str.contains(items[j])]\n",
    "    return rr_list"
   ]
  },
  {
   "cell_type": "code",
   "execution_count": 244,
   "metadata": {},
   "outputs": [],
   "source": [
    "user_id = 35\n",
    "ingredient_list = 'chocolate,cheese'\n",
    "table_list = set_up_rr(user_id,ingredient_list)"
   ]
  },
  {
   "cell_type": "code",
   "execution_count": 245,
   "metadata": {},
   "outputs": [],
   "source": [
    "table_list = table_list.to_numpy()"
   ]
  },
  {
   "cell_type": "code",
   "execution_count": 249,
   "metadata": {},
   "outputs": [],
   "source": [
    "'''def mk_tbl(rows):\n",
    "    #this is for creating dynamic tables\n",
    "    arr = []\n",
    "    for row in rows:\n",
    "        print(row)\n",
    "        title = row[2]\n",
    "        r_t = row[7]\n",
    "        p_t = row[5]\n",
    "        c_t = row[6]\n",
    "        url = row[10]\n",
    "        pred = row[1]\n",
    "        html_string =  f'<tr><td><img src={pred} alt=\"recipe photo\" width=\"100\" height=\"60\"/></td><td><input type=\"text\" name=\"title\" value=\"{title}\" size=\"20\" /></td><td><input type=\"text\" name=\"ready_time\" value=\"{r_t}\" size=\"10\" /></td><td><input type=\"text\" name=\"prep_time\" value=\"{p_t}\" size=\"5\" /></td><td><input type=\"text\" name=\"cook_time\" value=\"{c_t}\" size=\"5\"/></td><td><a href={url} target=\"_blank\">recipe link</a></td></tr>'\n",
    "        #print(html_string)\n",
    "        arr.append([pred,title,r_t,p_t,c_t,url])\n",
    "    return arr'''\n",
    "def mk_tbl(rows):\n",
    "    #this is for creating dynamic tables\n",
    "    arr = []\n",
    "    for row in rows:\n",
    "        title = row[2]\n",
    "        r_t = row[7]\n",
    "        p_t = row[5]\n",
    "        c_t = row[6]\n",
    "        url = row[10]\n",
    "        pred = row[1]\n",
    "        arr.append([pred,title,r_t,p_t,c_t,url])\n",
    "    return arr"
   ]
  },
  {
   "cell_type": "code",
   "execution_count": 250,
   "metadata": {},
   "outputs": [],
   "source": [
    "got_it = pd.DataFrame(mk_tbl(table_list))"
   ]
  },
  {
   "cell_type": "code",
   "execution_count": 251,
   "metadata": {},
   "outputs": [
    {
     "data": {
      "text/html": [
       "<div>\n",
       "<style scoped>\n",
       "    .dataframe tbody tr th:only-of-type {\n",
       "        vertical-align: middle;\n",
       "    }\n",
       "\n",
       "    .dataframe tbody tr th {\n",
       "        vertical-align: top;\n",
       "    }\n",
       "\n",
       "    .dataframe thead th {\n",
       "        text-align: right;\n",
       "    }\n",
       "</style>\n",
       "<table border=\"1\" class=\"dataframe\">\n",
       "  <thead>\n",
       "    <tr style=\"text-align: right;\">\n",
       "      <th></th>\n",
       "      <th>0</th>\n",
       "      <th>1</th>\n",
       "      <th>2</th>\n",
       "      <th>3</th>\n",
       "      <th>4</th>\n",
       "      <th>5</th>\n",
       "    </tr>\n",
       "  </thead>\n",
       "  <tbody>\n",
       "    <tr>\n",
       "      <th>0</th>\n",
       "      <td>5.000000</td>\n",
       "      <td>Easy Chocolate Cream Cheese Frosting</td>\n",
       "      <td>None</td>\n",
       "      <td>None</td>\n",
       "      <td>None</td>\n",
       "      <td>https://www.allrecipes.com/recipe/10342/easy-c...</td>\n",
       "    </tr>\n",
       "    <tr>\n",
       "      <th>1</th>\n",
       "      <td>4.714286</td>\n",
       "      <td>Baked Chocolate Caramel Cheesecake</td>\n",
       "      <td>8 h 45 m</td>\n",
       "      <td>1 Hour</td>\n",
       "      <td>1 Hour 45 Minutes</td>\n",
       "      <td>https://www.allrecipes.com/recipe/100827/baked...</td>\n",
       "    </tr>\n",
       "  </tbody>\n",
       "</table>\n",
       "</div>"
      ],
      "text/plain": [
       "          0                                     1         2        3  \\\n",
       "0  5.000000  Easy Chocolate Cream Cheese Frosting      None     None   \n",
       "1  4.714286    Baked Chocolate Caramel Cheesecake  8 h 45 m  1 Hour    \n",
       "\n",
       "                   4                                                  5  \n",
       "0               None  https://www.allrecipes.com/recipe/10342/easy-c...  \n",
       "1  1 Hour 45 Minutes  https://www.allrecipes.com/recipe/100827/baked...  "
      ]
     },
     "execution_count": 251,
     "metadata": {},
     "output_type": "execute_result"
    }
   ],
   "source": [
    "got_it"
   ]
  },
  {
   "cell_type": "code",
   "execution_count": 228,
   "metadata": {},
   "outputs": [
    {
     "data": {
      "text/plain": [
       "5.0"
      ]
     },
     "execution_count": 228,
     "metadata": {},
     "output_type": "execute_result"
    }
   ],
   "source": [
    "got_it.iloc[0,0]"
   ]
  },
  {
   "cell_type": "code",
   "execution_count": null,
   "metadata": {},
   "outputs": [],
   "source": []
  }
 ],
 "metadata": {
  "kernelspec": {
   "display_name": "Python 3",
   "language": "python",
   "name": "python3"
  },
  "language_info": {
   "codemirror_mode": {
    "name": "ipython",
    "version": 3
   },
   "file_extension": ".py",
   "mimetype": "text/x-python",
   "name": "python",
   "nbconvert_exporter": "python",
   "pygments_lexer": "ipython3",
   "version": "3.7.6"
  }
 },
 "nbformat": 4,
 "nbformat_minor": 4
}
