{
 "cells": [
  {
   "cell_type": "markdown",
   "metadata": {},
   "source": [
    "# Capstone Term 2 - Project\n",
    "\n",
    "* Marcos Bittencourt\n",
    "---\n",
    "* Contributors\n",
    "    * Todd McCullough [Git](https://github.com/tamccullough)\n",
    "    * Savya Sharma [Git](https://github.com/SavyaSharma)\n",
    "    * Marko Topitch [Git](https://github.com/TopMarko)\n",
    "---"
   ]
  },
  {
   "cell_type": "markdown",
   "metadata": {},
   "source": [
    "### Initialize Modules and Data"
   ]
  },
  {
   "cell_type": "markdown",
   "metadata": {},
   "source": [
    "##### Import the Needed Modules"
   ]
  },
  {
   "cell_type": "code",
   "execution_count": 1,
   "metadata": {},
   "outputs": [],
   "source": [
    "import pandas as pd\n",
    "import numpy as np\n",
    "import heapq\n",
    "from math import floor"
   ]
  },
  {
   "cell_type": "markdown",
   "metadata": {},
   "source": [
    "##### Import Surprise\n",
    "[Surprise](http://surpriselib.com/) is a Python scikit building and analyzing recommender systems that deal with explicit rating data."
   ]
  },
  {
   "cell_type": "code",
   "execution_count": 2,
   "metadata": {},
   "outputs": [],
   "source": [
    "from surprise import Reader, Dataset\n",
    "from surprise import KNNWithMeans"
   ]
  },
  {
   "cell_type": "markdown",
   "metadata": {},
   "source": [
    "##### Import Data"
   ]
  },
  {
   "cell_type": "code",
   "execution_count": 3,
   "metadata": {},
   "outputs": [],
   "source": [
    "recipes_df = pd.read_csv('datasets/recipes-sub.csv')\n",
    "users_df = pd.read_csv('datasets/users-sub.csv')\n",
    "ratings_df = pd.read_csv('datasets/clean_ratings.csv')"
   ]
  },
  {
   "cell_type": "code",
   "execution_count": 4,
   "metadata": {},
   "outputs": [
    {
     "data": {
      "text/html": [
       "<div>\n",
       "<style scoped>\n",
       "    .dataframe tbody tr th:only-of-type {\n",
       "        vertical-align: middle;\n",
       "    }\n",
       "\n",
       "    .dataframe tbody tr th {\n",
       "        vertical-align: top;\n",
       "    }\n",
       "\n",
       "    .dataframe thead th {\n",
       "        text-align: right;\n",
       "    }\n",
       "</style>\n",
       "<table border=\"1\" class=\"dataframe\">\n",
       "  <thead>\n",
       "    <tr style=\"text-align: right;\">\n",
       "      <th></th>\n",
       "      <th>recipe_id</th>\n",
       "      <th>title</th>\n",
       "      <th>servings</th>\n",
       "      <th>cals_per_serving</th>\n",
       "      <th>prep_time</th>\n",
       "      <th>cook_time</th>\n",
       "      <th>ready_time</th>\n",
       "      <th>nutrition</th>\n",
       "      <th>ingredients</th>\n",
       "      <th>url</th>\n",
       "    </tr>\n",
       "  </thead>\n",
       "  <tbody>\n",
       "    <tr>\n",
       "      <th>0</th>\n",
       "      <td>1</td>\n",
       "      <td>Chocolate Sandwich Cookies I</td>\n",
       "      <td>12</td>\n",
       "      <td>600.0</td>\n",
       "      <td>30 Minutes</td>\n",
       "      <td>8 Minutes</td>\n",
       "      <td>1 h 10 m</td>\n",
       "      <td>Per Serving: 600 calories;26.9 g fat;86.6g car...</td>\n",
       "      <td>3 cups all-purpose flour;1 1/2 cups white suga...</td>\n",
       "      <td>https://www.allrecipes.com/recipe/10000/chocol...</td>\n",
       "    </tr>\n",
       "    <tr>\n",
       "      <th>1</th>\n",
       "      <td>2</td>\n",
       "      <td>Chocolate Pizzelles</td>\n",
       "      <td>12</td>\n",
       "      <td>358.0</td>\n",
       "      <td>None</td>\n",
       "      <td>None</td>\n",
       "      <td>None</td>\n",
       "      <td>Per Serving: 358 calories;22.6 g fat;35.5g car...</td>\n",
       "      <td>4 eggs;1/4 cup cocoa powder;1 cup white sugar;...</td>\n",
       "      <td>https://www.allrecipes.com/recipe/10001/chocol...</td>\n",
       "    </tr>\n",
       "    <tr>\n",
       "      <th>2</th>\n",
       "      <td>3</td>\n",
       "      <td>Cookie Press Shortbread</td>\n",
       "      <td>24</td>\n",
       "      <td>116.0</td>\n",
       "      <td>25 Minutes</td>\n",
       "      <td>10 Minutes</td>\n",
       "      <td>35 m</td>\n",
       "      <td>Per Serving: 116 calories;7.8 g fat;10.9g carb...</td>\n",
       "      <td>1 cup butter;1 1/2 cups all-purpose flour;1/2 ...</td>\n",
       "      <td>https://www.allrecipes.com/recipe/10003/cookie...</td>\n",
       "    </tr>\n",
       "    <tr>\n",
       "      <th>3</th>\n",
       "      <td>4</td>\n",
       "      <td>Brown Sugar Frosting</td>\n",
       "      <td>16</td>\n",
       "      <td>59.0</td>\n",
       "      <td>None</td>\n",
       "      <td>None</td>\n",
       "      <td>None</td>\n",
       "      <td>Per Serving: 59 calories;0 g fat;15.2g carbohy...</td>\n",
       "      <td>1/2 cup packed dark brown sugar;1 tablespoon w...</td>\n",
       "      <td>https://www.allrecipes.com/recipe/10009/brown-...</td>\n",
       "    </tr>\n",
       "    <tr>\n",
       "      <th>4</th>\n",
       "      <td>5</td>\n",
       "      <td>Butter Cookies II</td>\n",
       "      <td>36</td>\n",
       "      <td>103.0</td>\n",
       "      <td>15 Minutes</td>\n",
       "      <td>10 Minutes</td>\n",
       "      <td>1 h 40 m</td>\n",
       "      <td>Per Serving: 103 calories;5.3 g fat;12.7g carb...</td>\n",
       "      <td>1 cup butter;1 cup white sugar;1 egg;2 2/3 cup...</td>\n",
       "      <td>https://www.allrecipes.com/recipe/10011/butter...</td>\n",
       "    </tr>\n",
       "  </tbody>\n",
       "</table>\n",
       "</div>"
      ],
      "text/plain": [
       "   recipe_id                         title  servings  cals_per_serving  \\\n",
       "0          1  Chocolate Sandwich Cookies I        12             600.0   \n",
       "1          2           Chocolate Pizzelles        12             358.0   \n",
       "2          3       Cookie Press Shortbread        24             116.0   \n",
       "3          4          Brown Sugar Frosting        16              59.0   \n",
       "4          5             Butter Cookies II        36             103.0   \n",
       "\n",
       "    prep_time   cook_time ready_time  \\\n",
       "0  30 Minutes   8 Minutes   1 h 10 m   \n",
       "1        None        None       None   \n",
       "2  25 Minutes  10 Minutes       35 m   \n",
       "3        None        None       None   \n",
       "4  15 Minutes  10 Minutes   1 h 40 m   \n",
       "\n",
       "                                           nutrition  \\\n",
       "0  Per Serving: 600 calories;26.9 g fat;86.6g car...   \n",
       "1  Per Serving: 358 calories;22.6 g fat;35.5g car...   \n",
       "2  Per Serving: 116 calories;7.8 g fat;10.9g carb...   \n",
       "3  Per Serving: 59 calories;0 g fat;15.2g carbohy...   \n",
       "4  Per Serving: 103 calories;5.3 g fat;12.7g carb...   \n",
       "\n",
       "                                         ingredients  \\\n",
       "0  3 cups all-purpose flour;1 1/2 cups white suga...   \n",
       "1  4 eggs;1/4 cup cocoa powder;1 cup white sugar;...   \n",
       "2  1 cup butter;1 1/2 cups all-purpose flour;1/2 ...   \n",
       "3  1/2 cup packed dark brown sugar;1 tablespoon w...   \n",
       "4  1 cup butter;1 cup white sugar;1 egg;2 2/3 cup...   \n",
       "\n",
       "                                                 url  \n",
       "0  https://www.allrecipes.com/recipe/10000/chocol...  \n",
       "1  https://www.allrecipes.com/recipe/10001/chocol...  \n",
       "2  https://www.allrecipes.com/recipe/10003/cookie...  \n",
       "3  https://www.allrecipes.com/recipe/10009/brown-...  \n",
       "4  https://www.allrecipes.com/recipe/10011/butter...  "
      ]
     },
     "execution_count": 4,
     "metadata": {},
     "output_type": "execute_result"
    }
   ],
   "source": [
    "recipes_df.head()"
   ]
  },
  {
   "cell_type": "code",
   "execution_count": 5,
   "metadata": {},
   "outputs": [
    {
     "data": {
      "text/html": [
       "<div>\n",
       "<style scoped>\n",
       "    .dataframe tbody tr th:only-of-type {\n",
       "        vertical-align: middle;\n",
       "    }\n",
       "\n",
       "    .dataframe tbody tr th {\n",
       "        vertical-align: top;\n",
       "    }\n",
       "\n",
       "    .dataframe thead th {\n",
       "        text-align: right;\n",
       "    }\n",
       "</style>\n",
       "<table border=\"1\" class=\"dataframe\">\n",
       "  <thead>\n",
       "    <tr style=\"text-align: right;\">\n",
       "      <th></th>\n",
       "      <th>user_id</th>\n",
       "      <th>AR_id</th>\n",
       "      <th>link</th>\n",
       "    </tr>\n",
       "  </thead>\n",
       "  <tbody>\n",
       "    <tr>\n",
       "      <th>0</th>\n",
       "      <td>1</td>\n",
       "      <td>naples34102</td>\n",
       "      <td>https://www.allrecipes.com/cook/naples34102</td>\n",
       "    </tr>\n",
       "    <tr>\n",
       "      <th>1</th>\n",
       "      <td>2</td>\n",
       "      <td>1207425</td>\n",
       "      <td>https://www.allrecipes.com/cook/1207425</td>\n",
       "    </tr>\n",
       "    <tr>\n",
       "      <th>2</th>\n",
       "      <td>3</td>\n",
       "      <td>183259</td>\n",
       "      <td>https://www.allrecipes.com/cook/183259</td>\n",
       "    </tr>\n",
       "    <tr>\n",
       "      <th>3</th>\n",
       "      <td>4</td>\n",
       "      <td>162514</td>\n",
       "      <td>https://www.allrecipes.com/cook/162514</td>\n",
       "    </tr>\n",
       "    <tr>\n",
       "      <th>4</th>\n",
       "      <td>5</td>\n",
       "      <td>1159515</td>\n",
       "      <td>https://www.allrecipes.com/cook/1159515</td>\n",
       "    </tr>\n",
       "  </tbody>\n",
       "</table>\n",
       "</div>"
      ],
      "text/plain": [
       "   user_id        AR_id                                         link\n",
       "0        1  naples34102  https://www.allrecipes.com/cook/naples34102\n",
       "1        2      1207425      https://www.allrecipes.com/cook/1207425\n",
       "2        3       183259       https://www.allrecipes.com/cook/183259\n",
       "3        4       162514       https://www.allrecipes.com/cook/162514\n",
       "4        5      1159515      https://www.allrecipes.com/cook/1159515"
      ]
     },
     "execution_count": 5,
     "metadata": {},
     "output_type": "execute_result"
    }
   ],
   "source": [
    "users_df.head()"
   ]
  },
  {
   "cell_type": "code",
   "execution_count": 6,
   "metadata": {},
   "outputs": [
    {
     "data": {
      "text/html": [
       "<div>\n",
       "<style scoped>\n",
       "    .dataframe tbody tr th:only-of-type {\n",
       "        vertical-align: middle;\n",
       "    }\n",
       "\n",
       "    .dataframe tbody tr th {\n",
       "        vertical-align: top;\n",
       "    }\n",
       "\n",
       "    .dataframe thead th {\n",
       "        text-align: right;\n",
       "    }\n",
       "</style>\n",
       "<table border=\"1\" class=\"dataframe\">\n",
       "  <thead>\n",
       "    <tr style=\"text-align: right;\">\n",
       "      <th></th>\n",
       "      <th>Unnamed: 0</th>\n",
       "      <th>user</th>\n",
       "      <th>item</th>\n",
       "      <th>rating</th>\n",
       "    </tr>\n",
       "  </thead>\n",
       "  <tbody>\n",
       "    <tr>\n",
       "      <th>0</th>\n",
       "      <td>0</td>\n",
       "      <td>1</td>\n",
       "      <td>1</td>\n",
       "      <td>5</td>\n",
       "    </tr>\n",
       "    <tr>\n",
       "      <th>1</th>\n",
       "      <td>1</td>\n",
       "      <td>2</td>\n",
       "      <td>1</td>\n",
       "      <td>2</td>\n",
       "    </tr>\n",
       "    <tr>\n",
       "      <th>2</th>\n",
       "      <td>2</td>\n",
       "      <td>3</td>\n",
       "      <td>1</td>\n",
       "      <td>4</td>\n",
       "    </tr>\n",
       "    <tr>\n",
       "      <th>3</th>\n",
       "      <td>3</td>\n",
       "      <td>4</td>\n",
       "      <td>1</td>\n",
       "      <td>5</td>\n",
       "    </tr>\n",
       "    <tr>\n",
       "      <th>4</th>\n",
       "      <td>4</td>\n",
       "      <td>5</td>\n",
       "      <td>1</td>\n",
       "      <td>3</td>\n",
       "    </tr>\n",
       "  </tbody>\n",
       "</table>\n",
       "</div>"
      ],
      "text/plain": [
       "   Unnamed: 0  user  item  rating\n",
       "0           0     1     1       5\n",
       "1           1     2     1       2\n",
       "2           2     3     1       4\n",
       "3           3     4     1       5\n",
       "4           4     5     1       3"
      ]
     },
     "execution_count": 6,
     "metadata": {},
     "output_type": "execute_result"
    }
   ],
   "source": [
    "ratings_df.head()"
   ]
  },
  {
   "cell_type": "markdown",
   "metadata": {},
   "source": [
    "##### Define a Ratings scale\n",
    "This scale is determined by the lowest and highest rating possible. \n",
    "In this case the lowest rating is 1, while the highest is 5."
   ]
  },
  {
   "cell_type": "code",
   "execution_count": 7,
   "metadata": {},
   "outputs": [],
   "source": [
    "reader = Reader(rating_scale=(1,5)) # This just defines the rating scale\n",
    "data = Dataset.load_from_df(ratings_df[['user', 'item', 'rating']], reader=reader)"
   ]
  },
  {
   "cell_type": "markdown",
   "metadata": {},
   "source": [
    "### Build the model\n",
    "\n",
    "##### KNN with Means - Surprise\n",
    "\n",
    "[KNN with Means](https://surprise.readthedocs.io/en/stable/knn_inspired.html#surprise.prediction_algorithms.knns.KNNWithMeans) has been chosen for the recommender, which is a basic collaborative filtering algorithm, taking into account the mean ratings of each user."
   ]
  },
  {
   "cell_type": "code",
   "execution_count": 8,
   "metadata": {},
   "outputs": [],
   "source": [
    "def build_recommender(user_based=False, sim_type='cosine'):\n",
    "    sim_options = {\n",
    "        \"name\": sim_type,\n",
    "        \"user_based\": user_based\n",
    "    }\n",
    "\n",
    "    return KNNWithMeans(sim_options=sim_options)"
   ]
  },
  {
   "cell_type": "markdown",
   "metadata": {},
   "source": [
    "##### Calculate the Similarity Matrix\n",
    "\n",
    "Ignoring folds this builds the *Trainset* using [build_full_trainset()](https://surprise.readthedocs.io/en/stable/dataset.html#surprise.dataset.DatasetAutoFolds.build_full_trainset)\n",
    "\n",
    "The Trainset is built using the data, but then contains more information about the data"
   ]
  },
  {
   "cell_type": "code",
   "execution_count": 9,
   "metadata": {},
   "outputs": [
    {
     "name": "stdout",
     "output_type": "stream",
     "text": [
      "Computing the cosine similarity matrix...\n",
      "Done computing similarity matrix.\n"
     ]
    },
    {
     "data": {
      "text/plain": [
       "<surprise.prediction_algorithms.knns.KNNWithMeans at 0x7f692d0f7d10>"
      ]
     },
     "execution_count": 9,
     "metadata": {},
     "output_type": "execute_result"
    }
   ],
   "source": [
    "trainset = data.build_full_trainset()\n",
    "\n",
    "# user_based_recommender = build_recommender(user_based=True)\n",
    "item_based_recommender = build_recommender()\n",
    "\n",
    "# User based seems to give a memory error when fit, due to the much larger amount of users than recipes.\n",
    "# user_based_recommender.fit(trainset)\n",
    "item_based_recommender.fit(trainset)"
   ]
  },
  {
   "cell_type": "markdown",
   "metadata": {},
   "source": [
    "##### Prediction\n",
    "\n",
    "Using this test to see how a users might rate a specific recipe."
   ]
  },
  {
   "cell_type": "code",
   "execution_count": 10,
   "metadata": {},
   "outputs": [
    {
     "name": "stdout",
     "output_type": "stream",
     "text": [
      "4.46, 4.22, 2.97, 4.63, 4.99, 5, 4.63, 4.63, 4.63, 4.63, 4.63, 4.23, 4.63, 4.63, 4.63, 4.63, 4.63, 4.63, 5, 4.63, 4.63, 4.63, 4.63, 4.63, 4.23, 4.97, 4.63, 5, 4.25, 4.63, 5, 4.63, 4.63, 4.63, 4.63, 4.63, 4.63, 4.63, 4.63, 4.63, 4.63, 4.63, 4.63, 4.63, 4.42, 4.63, 4.63, 4.63, 4.63, 4.63, 4.63, 4.63, 4.63, 5, 3.64, 4.64, 5, 4.3, 5, 5, 5, 4.64, 2.64, 5, 5, 5, 5, 5, 4.64, 5, 1.64, 2.64, 5, 5, 5, 4.41, 5, 5, 4.64, 4.64, 2.64, 5, 3.64, 1.64, 1.64, 1.64, 3.64, 4.64, 3.64, 4.82, 5, 2.64, 2.64, 2.64, 1.64, 5, 5, 5, 5, 5, 4.64, 4.64, 4.64, 4.64, 5, 5, 5, 5, 4.64, 5, 5, 4.64, 5, 2.64, 1.64, 5, 5, 4.64, 5, 5, 5, 3.64, 4.39, 5, 4.95, 4.99, 4.49, 4.38, 5, 5, 5, 5, 4.64, 4.64, 5, 2.64, 1.64, 5, 2.64, 5, 4.64, 4.64, 5, 5, 4.51, 5, 4.64, 3.64, 5, 5, "
     ]
    }
   ],
   "source": [
    "i = 1\n",
    "for i in range(150):\n",
    "    prediction = item_based_recommender.predict(i,167)\n",
    "    print(round(prediction.est,2), end=', ')\n",
    "    i = i + 1"
   ]
  },
  {
   "cell_type": "markdown",
   "metadata": {},
   "source": [
    "### Get a Recommendation Based on Ingredients\n",
    "\n",
    "The final code that will be impletented in a cleaner fashion through the browser interface."
   ]
  },
  {
   "cell_type": "code",
   "execution_count": 31,
   "metadata": {
    "scrolled": false
   },
   "outputs": [],
   "source": [
    "# Select which system to use. Due to memory constraints, item based is the only viable option\n",
    "recommender_system = item_based_recommender\n",
    "\n",
    "# User to recommend for\n",
    "user_id = 420\n",
    "\n",
    "# N will represent how many items to recommend\n",
    "N = 10\n",
    "\n",
    "# The setting to a set and back to list is a failsafe.\n",
    "rated_items = list(set(ratings_df.loc[ratings_df['user'] == user_id]['item'].tolist()))\n",
    "\n",
    "# Self explanitory name\n",
    "all_item_ids = list(set(ratings_df['item'].tolist()))\n",
    "\n",
    "# New_items just represents all the items not rated by the user\n",
    "new_items = [x for x in all_item_ids if x not in rated_items]\n",
    "\n",
    "# Estimate ratings for all unrated items\n",
    "predicted_ratings = {}\n",
    "for item_id in new_items:\n",
    "    predicted_ratings[item_id] = recommender_system.predict(user_id, item_id).est\n",
    "    pass\n",
    "\n",
    "# Get the item_ids for the top ratings\n",
    "recommended_ids = heapq.nlargest(N, predicted_ratings, key=predicted_ratings.get)\n",
    "recommended_ids = sorted(recommended_ids)\n",
    "\n",
    "# predicted_ratings\n",
    "recommended_df = recipes_df.loc[recipes_df['recipe_id'].isin(recommended_ids)].copy()\n",
    "recommended_df.set_index('recipe_id', inplace=True)\n",
    "recommended_df.insert(1, 'pred_rating', np.zeros(len(recommended_ids)))\n",
    "# recommended_df = recipes_df.copy()\n",
    "for idx,item_id in enumerate(recommended_ids):\n",
    "    recommended_df.iloc[idx, recommended_df.columns.get_loc('pred_rating')] =predicted_ratings[item_id]\n",
    "    pass"
   ]
  },
  {
   "cell_type": "code",
   "execution_count": 32,
   "metadata": {},
   "outputs": [],
   "source": [
    "organized = recommended_df.head(N).sort_values('pred_rating', ascending=False)"
   ]
  },
  {
   "cell_type": "code",
   "execution_count": 33,
   "metadata": {},
   "outputs": [
    {
     "data": {
      "text/html": [
       "<div>\n",
       "<style scoped>\n",
       "    .dataframe tbody tr th:only-of-type {\n",
       "        vertical-align: middle;\n",
       "    }\n",
       "\n",
       "    .dataframe tbody tr th {\n",
       "        vertical-align: top;\n",
       "    }\n",
       "\n",
       "    .dataframe thead th {\n",
       "        text-align: right;\n",
       "    }\n",
       "</style>\n",
       "<table border=\"1\" class=\"dataframe\">\n",
       "  <thead>\n",
       "    <tr style=\"text-align: right;\">\n",
       "      <th></th>\n",
       "      <th>title</th>\n",
       "      <th>pred_rating</th>\n",
       "    </tr>\n",
       "    <tr>\n",
       "      <th>recipe_id</th>\n",
       "      <th></th>\n",
       "      <th></th>\n",
       "    </tr>\n",
       "  </thead>\n",
       "  <tbody>\n",
       "    <tr>\n",
       "      <th>49</th>\n",
       "      <td>Christmas Rocks</td>\n",
       "      <td>5.0</td>\n",
       "    </tr>\n",
       "    <tr>\n",
       "      <th>78</th>\n",
       "      <td>Chocolate Crinkles III</td>\n",
       "      <td>5.0</td>\n",
       "    </tr>\n",
       "    <tr>\n",
       "      <th>119</th>\n",
       "      <td>Cassis Martini</td>\n",
       "      <td>5.0</td>\n",
       "    </tr>\n",
       "    <tr>\n",
       "      <th>129</th>\n",
       "      <td>Basic Chocolate Drop Cookies</td>\n",
       "      <td>5.0</td>\n",
       "    </tr>\n",
       "    <tr>\n",
       "      <th>132</th>\n",
       "      <td>Basic Nut Cookies</td>\n",
       "      <td>5.0</td>\n",
       "    </tr>\n",
       "    <tr>\n",
       "      <th>144</th>\n",
       "      <td>Classic Peanut Butter Cookies</td>\n",
       "      <td>5.0</td>\n",
       "    </tr>\n",
       "    <tr>\n",
       "      <th>189</th>\n",
       "      <td>Aunt Cora's World's Greatest Cookies</td>\n",
       "      <td>5.0</td>\n",
       "    </tr>\n",
       "    <tr>\n",
       "      <th>191</th>\n",
       "      <td>Buttermilk Chocolate Chip Cookies</td>\n",
       "      <td>5.0</td>\n",
       "    </tr>\n",
       "    <tr>\n",
       "      <th>259</th>\n",
       "      <td>Beth's Spicy Oatmeal Raisin Cookies</td>\n",
       "      <td>5.0</td>\n",
       "    </tr>\n",
       "    <tr>\n",
       "      <th>286</th>\n",
       "      <td>Champagne with Strawberries</td>\n",
       "      <td>5.0</td>\n",
       "    </tr>\n",
       "  </tbody>\n",
       "</table>\n",
       "</div>"
      ],
      "text/plain": [
       "                                          title  pred_rating\n",
       "recipe_id                                                   \n",
       "49                              Christmas Rocks          5.0\n",
       "78                       Chocolate Crinkles III          5.0\n",
       "119                              Cassis Martini          5.0\n",
       "129                Basic Chocolate Drop Cookies          5.0\n",
       "132                           Basic Nut Cookies          5.0\n",
       "144               Classic Peanut Butter Cookies          5.0\n",
       "189        Aunt Cora's World's Greatest Cookies          5.0\n",
       "191           Buttermilk Chocolate Chip Cookies          5.0\n",
       "259         Beth's Spicy Oatmeal Raisin Cookies          5.0\n",
       "286                 Champagne with Strawberries          5.0"
      ]
     },
     "execution_count": 33,
     "metadata": {},
     "output_type": "execute_result"
    }
   ],
   "source": [
    "organized[['title','pred_rating']]"
   ]
  },
  {
   "cell_type": "markdown",
   "metadata": {},
   "source": [
    "### View users highest rated recipes\n",
    "This section is to compare the recommendations to what the user has previously rated."
   ]
  },
  {
   "cell_type": "code",
   "execution_count": 12,
   "metadata": {},
   "outputs": [
    {
     "data": {
      "text/html": [
       "<div>\n",
       "<style scoped>\n",
       "    .dataframe tbody tr th:only-of-type {\n",
       "        vertical-align: middle;\n",
       "    }\n",
       "\n",
       "    .dataframe tbody tr th {\n",
       "        vertical-align: top;\n",
       "    }\n",
       "\n",
       "    .dataframe thead th {\n",
       "        text-align: right;\n",
       "    }\n",
       "</style>\n",
       "<table border=\"1\" class=\"dataframe\">\n",
       "  <thead>\n",
       "    <tr style=\"text-align: right;\">\n",
       "      <th></th>\n",
       "      <th>recipe_id</th>\n",
       "      <th>title</th>\n",
       "      <th>servings</th>\n",
       "      <th>cals_per_serving</th>\n",
       "      <th>prep_time</th>\n",
       "      <th>cook_time</th>\n",
       "      <th>ready_time</th>\n",
       "      <th>nutrition</th>\n",
       "      <th>ingredients</th>\n",
       "      <th>url</th>\n",
       "    </tr>\n",
       "  </thead>\n",
       "  <tbody>\n",
       "    <tr>\n",
       "      <th>4</th>\n",
       "      <td>5</td>\n",
       "      <td>Butter Cookies II</td>\n",
       "      <td>36</td>\n",
       "      <td>103.0</td>\n",
       "      <td>15 Minutes</td>\n",
       "      <td>10 Minutes</td>\n",
       "      <td>1 h 40 m</td>\n",
       "      <td>Per Serving: 103 calories;5.3 g fat;12.7g carb...</td>\n",
       "      <td>1 cup butter;1 cup white sugar;1 egg;2 2/3 cup...</td>\n",
       "      <td>https://www.allrecipes.com/recipe/10011/butter...</td>\n",
       "    </tr>\n",
       "  </tbody>\n",
       "</table>\n",
       "</div>"
      ],
      "text/plain": [
       "   recipe_id              title  servings  cals_per_serving   prep_time  \\\n",
       "4          5  Butter Cookies II        36             103.0  15 Minutes   \n",
       "\n",
       "    cook_time ready_time                                          nutrition  \\\n",
       "4  10 Minutes   1 h 40 m  Per Serving: 103 calories;5.3 g fat;12.7g carb...   \n",
       "\n",
       "                                         ingredients  \\\n",
       "4  1 cup butter;1 cup white sugar;1 egg;2 2/3 cup...   \n",
       "\n",
       "                                                 url  \n",
       "4  https://www.allrecipes.com/recipe/10011/butter...  "
      ]
     },
     "execution_count": 12,
     "metadata": {},
     "output_type": "execute_result"
    }
   ],
   "source": [
    "tmp = ratings_df.copy()\n",
    "tmp = tmp[tmp['user'] == user_id]\n",
    "tmp = tmp.sort_values('rating', ascending=False)\n",
    "top_item_ids = tmp['item'].tolist()[:N]\n",
    "top_ratings = tmp['rating'].tolist()[:N]\n",
    "\n",
    "rated_recipes = recipes_df.copy()\n",
    "\n",
    "rated_recipes[rated_recipes['recipe_id'].isin(top_item_ids)].head(N)"
   ]
  }
 ],
 "metadata": {
  "file_extension": ".py",
  "kernelspec": {
   "display_name": "Python 3",
   "language": "python",
   "name": "python3"
  },
  "language_info": {
   "codemirror_mode": {
    "name": "ipython",
    "version": 3
   },
   "file_extension": ".py",
   "mimetype": "text/x-python",
   "name": "python",
   "nbconvert_exporter": "python",
   "pygments_lexer": "ipython3",
   "version": "3.7.6"
  },
  "mimetype": "text/x-python",
  "name": "python",
  "npconvert_exporter": "python",
  "pygments_lexer": "ipython3",
  "version": 3
 },
 "nbformat": 4,
 "nbformat_minor": 2
}
